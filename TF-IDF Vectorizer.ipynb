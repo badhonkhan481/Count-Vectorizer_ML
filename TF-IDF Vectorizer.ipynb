{
 "cells": [
  {
   "cell_type": "code",
   "execution_count": 3,
   "id": "17124494",
   "metadata": {},
   "outputs": [],
   "source": [
    "from sklearn.feature_extraction.text import TfidfVectorizer"
   ]
  },
  {
   "cell_type": "code",
   "execution_count": 4,
   "id": "26c35d77",
   "metadata": {},
   "outputs": [],
   "source": [
    "dataset=['Welcome to my coding world',\n",
    "        'Hey I am Badhon Parvej',\n",
    "        'Machine Learning is to good',\n",
    "        'Follow my github']"
   ]
  },
  {
   "cell_type": "code",
   "execution_count": 6,
   "id": "24baa5cb",
   "metadata": {},
   "outputs": [],
   "source": [
    "cv=TfidfVectorizer()\n",
    "x=cv.fit_transform(dataset)"
   ]
  },
  {
   "cell_type": "code",
   "execution_count": 7,
   "id": "0cd8ed8f",
   "metadata": {},
   "outputs": [
    {
     "name": "stderr",
     "output_type": "stream",
     "text": [
      "C:\\Users\\badhonkhan481\\anaconda3\\lib\\site-packages\\sklearn\\utils\\deprecation.py:87: FutureWarning: Function get_feature_names is deprecated; get_feature_names is deprecated in 1.0 and will be removed in 1.2. Please use get_feature_names_out instead.\n",
      "  warnings.warn(msg, category=FutureWarning)\n"
     ]
    },
    {
     "data": {
      "text/plain": [
       "['am',\n",
       " 'badhon',\n",
       " 'coding',\n",
       " 'follow',\n",
       " 'github',\n",
       " 'good',\n",
       " 'hey',\n",
       " 'is',\n",
       " 'learning',\n",
       " 'machine',\n",
       " 'my',\n",
       " 'parvej',\n",
       " 'to',\n",
       " 'welcome',\n",
       " 'world']"
      ]
     },
     "execution_count": 7,
     "metadata": {},
     "output_type": "execute_result"
    }
   ],
   "source": [
    "cv.get_feature_names()"
   ]
  },
  {
   "cell_type": "code",
   "execution_count": 8,
   "id": "ad857d0a",
   "metadata": {},
   "outputs": [
    {
     "data": {
      "text/plain": [
       "array([[0.        , 0.        , 0.48546061, 0.        , 0.        ,\n",
       "        0.        , 0.        , 0.        , 0.        , 0.        ,\n",
       "        0.38274272, 0.        , 0.38274272, 0.48546061, 0.48546061],\n",
       "       [0.5       , 0.5       , 0.        , 0.        , 0.        ,\n",
       "        0.        , 0.5       , 0.        , 0.        , 0.        ,\n",
       "        0.        , 0.5       , 0.        , 0.        , 0.        ],\n",
       "       [0.        , 0.        , 0.        , 0.        , 0.        ,\n",
       "        0.46516193, 0.        , 0.46516193, 0.46516193, 0.46516193,\n",
       "        0.        , 0.        , 0.36673901, 0.        , 0.        ],\n",
       "       [0.        , 0.        , 0.        , 0.61761437, 0.61761437,\n",
       "        0.        , 0.        , 0.        , 0.        , 0.        ,\n",
       "        0.48693426, 0.        , 0.        , 0.        , 0.        ]])"
      ]
     },
     "execution_count": 8,
     "metadata": {},
     "output_type": "execute_result"
    }
   ],
   "source": [
    "x.toarray()"
   ]
  },
  {
   "cell_type": "code",
   "execution_count": null,
   "id": "47b0fe15",
   "metadata": {},
   "outputs": [],
   "source": []
  }
 ],
 "metadata": {
  "kernelspec": {
   "display_name": "Python 3 (ipykernel)",
   "language": "python",
   "name": "python3"
  },
  "language_info": {
   "codemirror_mode": {
    "name": "ipython",
    "version": 3
   },
   "file_extension": ".py",
   "mimetype": "text/x-python",
   "name": "python",
   "nbconvert_exporter": "python",
   "pygments_lexer": "ipython3",
   "version": "3.9.13"
  }
 },
 "nbformat": 4,
 "nbformat_minor": 5
}
